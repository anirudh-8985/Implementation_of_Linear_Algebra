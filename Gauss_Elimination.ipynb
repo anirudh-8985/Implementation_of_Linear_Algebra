{
 "cells": [
  {
   "cell_type": "markdown",
   "id": "5341306e",
   "metadata": {},
   "source": [
    "# Solving System of Equations by Gauss Elimination Method"
   ]
  },
  {
   "cell_type": "code",
   "execution_count": 1,
   "id": "f3552edc",
   "metadata": {},
   "outputs": [
    {
     "name": "stdout",
     "output_type": "stream",
     "text": [
      "Enter the no.of Unknowns of the equation :3\n",
      "Enter the variables separates by space :x y z\n",
      "Enter the coefficient of 1 equation variables :3 4 -1\n",
      "Enter the value of 1 equation :-6\n",
      "Enter the coefficient of 2 equation variables :0 -2 10\n",
      "Enter the value of 2 equation :-8\n",
      "Enter the coefficient of 3 equation variables :0 4 -2\n",
      "Enter the value of 3 equation :-2\n"
     ]
    }
   ],
   "source": [
    "m = (int)(input(\"Enter the no.of Unknowns of the equation :\"))    # Taking the input of no.of Unknowns in the equation\n",
    "var = (list)(input(\"Enter the variables separates by space :\").split())    # Taking the input of the name of the variables \n",
    "Matrix = []           # defining the list for storing the equations excluding the constants in the form of Matrix.\n",
    "Const = []            # defining the list for storing the constants of the equations.\n",
    "\n",
    "for i in range(m):     # Iteration for taking the inputs from the user for coefficients and constants of the equations.\n",
    "    coeff = input(f\"Enter the coefficient of {i+1} equation variables :\").split()\n",
    "    numeric_coeff = [int(i) for i in coeff]  # Convert to integers\n",
    "    Matrix.append(numeric_coeff)             \n",
    "    val = (int)(input(f\"Enter the value of {i+1} equation :\"))\n",
    "    Const.append(val)\n",
    "\n"
   ]
  },
  {
   "cell_type": "code",
   "execution_count": 2,
   "id": "238c2dca",
   "metadata": {},
   "outputs": [
    {
     "name": "stdout",
     "output_type": "stream",
     "text": [
      "The Coeff Matrix is:\n",
      "[3, 4, -1]\n",
      "[0, -2, 10]\n",
      "[0, 4, -2]\n",
      "The Constant vector is:\n",
      "[-6, -8, -2]\n"
     ]
    }
   ],
   "source": [
    "# displaying the Coeff matrix and Constant vector\n",
    "\n",
    "print(\"The Coeff Matrix is:\")\n",
    "for i in range(m):\n",
    "    print(Matrix[i])\n",
    "\n",
    "print(\"The Constant vector is:\")\n",
    "print(Const)\n"
   ]
  },
  {
   "cell_type": "code",
   "execution_count": 3,
   "id": "082cd882",
   "metadata": {},
   "outputs": [
    {
     "name": "stdout",
     "output_type": "stream",
     "text": [
      "The Matrix after Gauss elimantion in :\n",
      "3 4 -1 | -6\n",
      "0 -2 10 | -8\n",
      "0 0 18 | -18.0\n"
     ]
    }
   ],
   "source": [
    "import copy \n",
    "\n",
    "def row_oper(p_row,e_row,temp,m):  #function for perfrom row operation based on the pivot element. The inputs are pivot_element row and eleminating row\n",
    "        for i in range(3):\n",
    "            e_row[i] = (int)(e_row[i]) - (int)(temp)*(int)(p_row[i])\n",
    "\n",
    "def swap_row(row1,row2):   # Function for swaping the rows of the matrix in case the diagonal(pivot) element is zero\n",
    "    temp = row2\n",
    "    row2 = row1\n",
    "    row1 = temp\n",
    "\n",
    "def swap_val(i,j):      # Function for swaping the element in the vector\n",
    "    temp1 = Value[i]\n",
    "    Value[i] = Value[j]\n",
    "    Value[j] = temp1\n",
    "\n",
    "\n",
    "def Gauss_Eli(Matrix,Const,m):   # Guass_Elimination Function \n",
    "    A = copy.deepcopy(Matrix)\n",
    "    Value = copy.deepcopy(Const)\n",
    "    i = 0\n",
    "    while (i < (m-1)):\n",
    "        j = i+1\n",
    "        if(A[i][i] != 0):         #if the pivot(diagonal) element is not zero, then it performs the row operation\n",
    "            for k in range(j,m):\n",
    "                if(A[k][i] != 0):    # if the elements below the pivot element is zero, it will skip that row\n",
    "                    temp = A[k][i] / A[i][i]     \n",
    "                    row_oper(A[i],A[k],temp,m)   # calling the row_oper function to perform the row_operations\n",
    "                    Value[k] = (Value[k]) - (temp)*(Value[i])\n",
    "\n",
    "            i += 1\n",
    "        elif(A[i][i] == 0):      # if the pivot(diagonal) element is zero, it will swap the row from the below rows where the element is not zero\n",
    "            for k in range(j,m):\n",
    "                if(A[j][i] != 0):\n",
    "                    swap_row(A[j],A[i])          # calling the swap_row function\n",
    "                    swap_val(i,j)                 # calling the swap_val\n",
    "    return (A,Value)\n",
    "            \n",
    "            \n",
    "Eli_Matrix,Eli_Vec = Gauss_Eli(Matrix,Const,m)    # calling Gauss_Eli() function and storing the output in the variables.\n",
    "print(\"The Matrix after Gauss elimantion in :\")\n",
    "for i in range(m):\n",
    "    row_string = \" \".join(str(element) for element in Eli_Matrix[i])\n",
    "    print(row_string,\"|\",Eli_Vec[i])\n"
   ]
  },
  {
   "cell_type": "code",
   "execution_count": 4,
   "id": "fd3a9323",
   "metadata": {},
   "outputs": [],
   "source": [
    "def check_sol(Matrix,Cons,m):   # To check whether the System of equations are Consistent or Non-Consistent.\n",
    "    x,y = 0,0\n",
    "    for i in range(m):\n",
    "        temp = 0\n",
    "        for j in range(m):\n",
    "            temp += Matrix[i][j]\n",
    "        if(temp != 0):\n",
    "            x += 1\n",
    "        if(temp != 0 and Cons[i]):\n",
    "            y += 1\n",
    "    if(x == y):\n",
    "        print(\"The system of eqautions are Consistent.\")\n",
    "        return x\n",
    "    else:\n",
    "        print(\"The system of eqautions are Non-Consistent.\")\n",
    "        return False\n"
   ]
  },
  {
   "cell_type": "code",
   "execution_count": 5,
   "id": "7caece23",
   "metadata": {},
   "outputs": [
    {
     "name": "stdout",
     "output_type": "stream",
     "text": [
      "The system of eqautions are Consistent.\n",
      "The Solutions of the equation are:\n",
      "x = -1.0\n",
      "y = -1.0\n",
      "z = -1.0\n"
     ]
    }
   ],
   "source": [
    "# Eli_Vec[2] =0\n",
    "def Back_sub(B,X,l):  # Function for finding the solutions for the Equations\n",
    "    test = check_sol(B,X,m)      # Calling check_sol() function for checking consistent or not.\n",
    "    if( test == False):      \n",
    "        print(\"Also, This system of equations has No Solution.\")\n",
    "        return \n",
    "    elif(test < len(X)):\n",
    "        print(\"Also, system of equations has Infinitely Many Solution.\")\n",
    "        return\n",
    "    result =[]\n",
    "    for i in range(m):\n",
    "        result.append(0)\n",
    "    while(l > 0):     #while loop for back substituion\n",
    "        x = l\n",
    "        l -= 1\n",
    "        total = 0\n",
    "        for i in range(x,m):\n",
    "            total += result[i] * B[l][i]\n",
    "            \n",
    "        total = X[l] - total\n",
    "        result[l] = total/B[l][l]\n",
    "    \n",
    "    print(\"The Solutions of the equation are:\")\n",
    "    for i in range(m):\n",
    "        print(var[i],'=',result[i])\n",
    "        \n",
    "    \n",
    "Back_sub(Eli_Matrix,Eli_Vec,m)\n"
   ]
  }
 ],
 "metadata": {
  "kernelspec": {
   "display_name": "Python 3 (ipykernel)",
   "language": "python",
   "name": "python3"
  },
  "language_info": {
   "codemirror_mode": {
    "name": "ipython",
    "version": 3
   },
   "file_extension": ".py",
   "mimetype": "text/x-python",
   "name": "python",
   "nbconvert_exporter": "python",
   "pygments_lexer": "ipython3",
   "version": "3.11.1"
  }
 },
 "nbformat": 4,
 "nbformat_minor": 5
}
