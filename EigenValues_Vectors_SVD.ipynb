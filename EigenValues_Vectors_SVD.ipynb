{
 "cells": [
  {
   "cell_type": "code",
   "execution_count": 44,
   "id": "e7b6fa53",
   "metadata": {},
   "outputs": [],
   "source": [
    "import numpy as np\n",
    "from numpy import linalg as la\n",
    "\n",
    "def Gen_Matrix():  # Function for Generating Matrix\n",
    "    m , n = map(int,(input(\"Enter the no.of Rows and Cols of the matrix :\").split()))    # Taking the input of no.of rows and cols\n",
    "    Matrix = []    \n",
    "\n",
    "    for i in range(m):     # Iteration for taking the inputs from the user for the rows of the matrix and storing in a list.\n",
    "        elements = input(f\"Enter the {i+1} Row :\").split()\n",
    "        numeric_elements = [int(i) for i in elements]  # Convert to integers\n",
    "        if(len(numeric_elements) == n):\n",
    "            Matrix.append(numeric_elements)             \n",
    "        else:\n",
    "            print(\"Incorrect inputs\")\n",
    "            break\n",
    "    return (np.array(Matrix))"
   ]
  },
  {
   "cell_type": "markdown",
   "id": "b4fbc657",
   "metadata": {},
   "source": [
    "# Eigen Values and Vectors\n"
   ]
  },
  {
   "cell_type": "code",
   "execution_count": 48,
   "id": "2ed49218",
   "metadata": {},
   "outputs": [
    {
     "name": "stdout",
     "output_type": "stream",
     "text": [
      "Enter the no.of Rows and Cols of the matrix :2 2\n",
      "Enter the 1 Row :1 2\n",
      "Enter the 2 Row :3 4\n"
     ]
    },
    {
     "data": {
      "text/plain": [
       "array([[1, 2],\n",
       "       [3, 4]])"
      ]
     },
     "execution_count": 48,
     "metadata": {},
     "output_type": "execute_result"
    }
   ],
   "source": [
    "Matrix = Gen_Matrix() # Calling Generating Matrix\n",
    "Matrix    # Printing the array"
   ]
  },
  {
   "cell_type": "code",
   "execution_count": 49,
   "id": "85676f8f",
   "metadata": {},
   "outputs": [
    {
     "name": "stdout",
     "output_type": "stream",
     "text": [
      "Eigen Values of Matrix :  [-0.37228132  5.37228132]\n",
      "Eigen Vectors of Matrix :  [[-0.82456484 -0.41597356]\n",
      " [ 0.56576746 -0.90937671]]\n"
     ]
    }
   ],
   "source": [
    "Eigen_values, Eigen_vectors = la.eig(Matrix)   # calling the function to calculate Eigen values and vectors\\\n",
    "print(\"Eigen Values of Matrix : \", Eigen_values)\n",
    "print(\"Eigen Vectors of Matrix : \", Eigen_vectors)"
   ]
  },
  {
   "cell_type": "markdown",
   "id": "25c5c40d",
   "metadata": {},
   "source": [
    "# SVD - Singular Value Decomposition"
   ]
  },
  {
   "cell_type": "code",
   "execution_count": 62,
   "id": "1d3a8a20",
   "metadata": {},
   "outputs": [
    {
     "name": "stdout",
     "output_type": "stream",
     "text": [
      "Enter the no.of Rows and Cols of the matrix :3 2\n",
      "Enter the 1 Row :1 2\n",
      "Enter the 2 Row :3 4\n",
      "Enter the 3 Row :5 6\n"
     ]
    }
   ],
   "source": [
    "A = Gen_Matrix()\n",
    "A\n"
   ]
  },
  {
   "cell_type": "code",
   "execution_count": 66,
   "id": "766410a3",
   "metadata": {},
   "outputs": [
    {
     "name": "stdout",
     "output_type": "stream",
     "text": [
      "3 2\n"
     ]
    }
   ],
   "source": [
    "m,n = A.shape\n",
    "print(m,n)"
   ]
  },
  {
   "cell_type": "code",
   "execution_count": 56,
   "id": "403c301c",
   "metadata": {},
   "outputs": [
    {
     "data": {
      "text/plain": [
       "array([[1, 3, 5],\n",
       "       [2, 4, 6]])"
      ]
     },
     "execution_count": 56,
     "metadata": {},
     "output_type": "execute_result"
    }
   ],
   "source": [
    "A_T = A.T # Transposing The matrix\n",
    "A_T"
   ]
  },
  {
   "cell_type": "code",
   "execution_count": 57,
   "id": "26f28091",
   "metadata": {},
   "outputs": [
    {
     "data": {
      "text/plain": [
       "array([[ 5, 11, 17],\n",
       "       [11, 25, 39],\n",
       "       [17, 39, 61]])"
      ]
     },
     "execution_count": 57,
     "metadata": {},
     "output_type": "execute_result"
    }
   ],
   "source": [
    "N_Mat = np.dot(A,A_T)   \n",
    "N_Mat"
   ]
  },
  {
   "cell_type": "markdown",
   "id": "9c711e5f",
   "metadata": {},
   "source": [
    "# U\n"
   ]
  },
  {
   "cell_type": "code",
   "execution_count": 59,
   "id": "99bfc1ea",
   "metadata": {},
   "outputs": [
    {
     "data": {
      "text/plain": [
       "array([[-0.2298477 , -0.88346102,  0.40824829],\n",
       "       [-0.52474482, -0.24078249, -0.81649658],\n",
       "       [-0.81964194,  0.40189603,  0.40824829]])"
      ]
     },
     "execution_count": 59,
     "metadata": {},
     "output_type": "execute_result"
    }
   ],
   "source": [
    "k , U = la.eig(N_Mat)\n",
    "U"
   ]
  },
  {
   "cell_type": "markdown",
   "id": "d87f1dae",
   "metadata": {},
   "source": [
    "# V\n"
   ]
  },
  {
   "cell_type": "code",
   "execution_count": 60,
   "id": "1a3fc183",
   "metadata": {},
   "outputs": [
    {
     "data": {
      "text/plain": [
       "array([[-0.78489445, -0.61962948],\n",
       "       [ 0.61962948, -0.78489445]])"
      ]
     },
     "execution_count": 60,
     "metadata": {},
     "output_type": "execute_result"
    }
   ],
   "source": [
    "l , V = la.eig(A_T@A)\n",
    "V"
   ]
  },
  {
   "cell_type": "code",
   "execution_count": 67,
   "id": "6b422541",
   "metadata": {},
   "outputs": [
    {
     "data": {
      "text/plain": [
       "array([[9.52551809, 0.        ],\n",
       "       [0.        , 0.51430058],\n",
       "       [0.        , 0.        ]])"
      ]
     },
     "execution_count": 67,
     "metadata": {},
     "output_type": "execute_result"
    }
   ],
   "source": [
    "# For Lambda Matrix\n",
    "Lam = []    \n",
    "List = []\n",
    "for i in range(m):    \n",
    "        if(i == j):\n",
    "            List.append(np.sqrt(k[i]))\n",
    "        else:\n",
    "            List.append(0)\n",
    "    Lam.append(List)\n",
    "    List = []\n",
    "Lam = np.array(Lam)\n",
    "Lam"
   ]
  },
  {
   "cell_type": "code",
   "execution_count": 69,
   "id": "0b149d1c",
   "metadata": {},
   "outputs": [
    {
     "data": {
      "text/plain": [
       "array([[ 2., -1.],\n",
       "       [ 4., -3.],\n",
       "       [ 6., -5.]])"
      ]
     },
     "execution_count": 69,
     "metadata": {},
     "output_type": "execute_result"
    }
   ],
   "source": [
    "S_Matrix = U@Lam@V.T\n",
    "S_Matrix"
   ]
  }
 ],
 "metadata": {
  "kernelspec": {
   "display_name": "Python 3 (ipykernel)",
   "language": "python",
   "name": "python3"
  },
  "language_info": {
   "codemirror_mode": {
    "name": "ipython",
    "version": 3
   },
   "file_extension": ".py",
   "mimetype": "text/x-python",
   "name": "python",
   "nbconvert_exporter": "python",
   "pygments_lexer": "ipython3",
   "version": "3.11.1"
  }
 },
 "nbformat": 4,
 "nbformat_minor": 5
}
